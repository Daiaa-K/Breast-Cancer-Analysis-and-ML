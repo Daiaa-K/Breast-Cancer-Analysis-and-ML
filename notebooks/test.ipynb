{
 "cells": [
  {
   "cell_type": "code",
   "execution_count": 4,
   "metadata": {},
   "outputs": [
    {
     "ename": "ModuleNotFoundError",
     "evalue": "No module named 'utils'",
     "output_type": "error",
     "traceback": [
      "\u001b[1;31m---------------------------------------------------------------------------\u001b[0m",
      "\u001b[1;31mModuleNotFoundError\u001b[0m                       Traceback (most recent call last)",
      "Cell \u001b[1;32mIn[4], line 1\u001b[0m\n\u001b[1;32m----> 1\u001b[0m \u001b[38;5;28;01mfrom\u001b[39;00m \u001b[38;5;21;01mutils\u001b[39;00m\u001b[38;5;21;01m.\u001b[39;00m\u001b[38;5;21;01mconfig\u001b[39;00m \u001b[38;5;28;01mimport\u001b[39;00m preprocessor,forest_model\n\u001b[0;32m      2\u001b[0m \u001b[38;5;28;01mfrom\u001b[39;00m \u001b[38;5;21;01mutils\u001b[39;00m\u001b[38;5;21;01m.\u001b[39;00m\u001b[38;5;21;01mPatientData\u001b[39;00m \u001b[38;5;28;01mimport\u001b[39;00m PatientData\n",
      "\u001b[1;31mModuleNotFoundError\u001b[0m: No module named 'utils'"
     ]
    }
   ],
   "source": [
    "from utils.config import preprocessor,forest_model\n",
    "from utils.PatientData import PatientData"
   ]
  },
  {
   "cell_type": "code",
   "execution_count": null,
   "metadata": {},
   "outputs": [
    {
     "data": {
      "text/plain": [
       "'g:\\\\depi\\\\technical\\\\projects\\\\Breast-Cancer-Analysis-and-ML\\\\notebooks\\\\..\\\\..'"
      ]
     },
     "execution_count": 11,
     "metadata": {},
     "output_type": "execute_result"
    }
   ],
   "source": [
    "os.path.join(os.getcwd(),\"..\",)"
   ]
  },
  {
   "cell_type": "code",
   "execution_count": 15,
   "metadata": {},
   "outputs": [],
   "source": [
    "import sys\n",
    "import os\n",
    "\n",
    "sys.path.append(os.path.join(os.getcwd(),\"..\",))\n",
    "\n",
    "from utils.config import preprocessor, forest_model\n",
    "from utils.PatientData import PatientData\n",
    "import pandas as pd\n"
   ]
  },
  {
   "cell_type": "code",
   "execution_count": 13,
   "metadata": {},
   "outputs": [],
   "source": [
    "patient = PatientData(\n",
    "    radius_mean=15.0,\n",
    "    texture_mean=20.0,\n",
    "    perimeter_mean=95.0,\n",
    "    area_mean=700.0,\n",
    "    smoothness_mean=0.1,\n",
    "    compactness_mean=0.15,\n",
    "    concavity_mean=0.2,\n",
    "    concave_points_mean=0.05,\n",
    "    symmetry_mean=0.18,\n",
    "    radius_se=0.5,\n",
    "    perimeter_se=5.0,\n",
    "    area_se=50.0,\n",
    "    compactness_se=0.02,\n",
    "    concavity_se=0.03,\n",
    "    concave_points_se=0.01,\n",
    "    radius_worst=17.0,\n",
    "    texture_worst=25.0,\n",
    "    perimeter_worst=110.0,\n",
    "    area_worst=800.0,\n",
    "    smoothness_worst=0.12,\n",
    "    compactness_worst=0.2,\n",
    "    concavity_worst=0.3,\n",
    "    concave_points_worst=0.08,\n",
    "    symmetry_worst=0.2,\n",
    "    fractal_dimension_worst=0.08\n",
    ")"
   ]
  },
  {
   "cell_type": "code",
   "execution_count": 19,
   "metadata": {},
   "outputs": [],
   "source": [
    "new = pd.DataFrame([patient.model_dump()])"
   ]
  },
  {
   "cell_type": "code",
   "execution_count": 21,
   "metadata": {},
   "outputs": [],
   "source": [
    "processed = preprocessor.transform(new)\n",
    "y_pred = forest_model.predict(processed)\n",
    "y_proba = forest_model.predict_proba(processed)"
   ]
  },
  {
   "cell_type": "code",
   "execution_count": 25,
   "metadata": {},
   "outputs": [
    {
     "data": {
      "text/plain": [
       "(0, 0.4320898876404495)"
      ]
     },
     "execution_count": 25,
     "metadata": {},
     "output_type": "execute_result"
    }
   ],
   "source": [
    "y_pred[0], y_proba[0][1]"
   ]
  }
 ],
 "metadata": {
  "kernelspec": {
   "display_name": "Ai_7",
   "language": "python",
   "name": "python3"
  },
  "language_info": {
   "codemirror_mode": {
    "name": "ipython",
    "version": 3
   },
   "file_extension": ".py",
   "mimetype": "text/x-python",
   "name": "python",
   "nbconvert_exporter": "python",
   "pygments_lexer": "ipython3",
   "version": "3.12.4"
  }
 },
 "nbformat": 4,
 "nbformat_minor": 2
}
